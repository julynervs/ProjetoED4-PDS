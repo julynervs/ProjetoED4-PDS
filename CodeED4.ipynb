{
 "cells": [
  {
   "cell_type": "code",
   "execution_count": 11,
   "metadata": {
    "collapsed": true
   },
   "outputs": [],
   "source": [
    "import plotly \n",
    "plotly.tools.set_credentials_file(username='robertajulyelly', api_key='GMM87KPsUANbp8wAcwKK')"
   ]
  },
  {
   "cell_type": "code",
   "execution_count": 3,
   "metadata": {},
   "outputs": [
    {
     "name": "stdout",
     "output_type": "stream",
     "text": [
      "      4.561789887476296879e-01\n",
      "0                     0.428327\n",
      "1                     0.390557\n",
      "2                     0.344395\n",
      "3                     0.292129\n",
      "4                     0.235286\n",
      "5                     0.176916\n",
      "6                     0.118547\n",
      "7                     0.063991\n",
      "8                     0.016303\n",
      "9                    -0.022993\n",
      "10                   -0.050844\n",
      "11                   -0.067252\n",
      "12                   -0.073743\n",
      "13                   -0.071840\n",
      "14                   -0.064596\n",
      "15                   -0.056591\n",
      "16                   -0.047821\n",
      "17                   -0.042105\n",
      "18                   -0.037913\n",
      "19                   -0.035248\n",
      "20                   -0.031057\n",
      "21                   -0.026103\n",
      "22                   -0.018861\n",
      "23                   -0.010092\n",
      "24                   -0.002850\n",
      "25                    0.002868\n",
      "26                    0.004769\n",
      "27                    0.003619\n",
      "28                   -0.001346\n",
      "29                   -0.005547\n",
      "...                        ...\n",
      "4139                 -0.146941\n",
      "4140                 -0.150977\n",
      "4141                 -0.152723\n",
      "4142                 -0.152179\n",
      "4143                 -0.148583\n",
      "4144                 -0.141934\n",
      "4145                 -0.135284\n",
      "4146                 -0.129397\n",
      "4147                 -0.126561\n",
      "4148                 -0.126775\n",
      "4149                 -0.130804\n",
      "4150                 -0.135594\n",
      "4151                 -0.139621\n",
      "4152                 -0.141358\n",
      "4153                 -0.137754\n",
      "4154                 -0.130335\n",
      "4155                 -0.122151\n",
      "4156                 -0.113967\n",
      "4157                 -0.109597\n",
      "4158                 -0.109803\n",
      "4159                 -0.114586\n",
      "4160                 -0.120895\n",
      "4161                 -0.125676\n",
      "4162                 -0.126642\n",
      "4163                 -0.122268\n",
      "4164                 -0.114076\n",
      "4165                 -0.102833\n",
      "4166                 -0.090826\n",
      "4167                 -0.081870\n",
      "4168                 -0.078253\n",
      "\n",
      "[4169 rows x 1 columns]\n"
     ]
    }
   ],
   "source": [
    "import scipy.io\n",
    "import numpy as np\n",
    "import pandas as pd\n",
    "\n",
    "data = scipy.io.loadmat(\"ecg.mat\")\n",
    "\n",
    "for i in data:\n",
    "\tif '__' not in i and 'readme' not in i:\n",
    "\t\tnp.savetxt((\"ecg2\"+i+\".csv\"),data[i],delimiter=',')\n",
    "        \n",
    "df = pd.read_csv('ecgecg.csv')\n",
    "print df\n",
    "\n",
    "\n",
    "import cmath\n",
    "# Discrete fourier transform\n",
    "def dft(x):\n",
    "    t = []\n",
    "    N = len(x)\n",
    "    for k in range(N):\n",
    "        a = 0\n",
    "        for n in range(N):\n",
    "            a += x[n]*cmath.exp(-2j*cmath.pi*k*n*(1/N))\n",
    "        t.append(a)\n",
    "    return t\n",
    "# Inverse discrete fourier transform\n",
    "def idft(t):\n",
    "    x = []\n",
    "    N = len(t)\n",
    "    for n in range(N):\n",
    "        a = 0\n",
    "        for k in range(N):\n",
    "            a += t[k]*cmath.exp(2j*cmath.pi*k*n*(1/N))\n",
    "        a /= N\n",
    "        x.append(a)\n",
    "    return x"
   ]
  },
  {
   "cell_type": "code",
   "execution_count": null,
   "metadata": {
    "collapsed": true
   },
   "outputs": [],
   "source": []
  }
 ],
 "metadata": {
  "kernelspec": {
   "display_name": "Python 2",
   "language": "python",
   "name": "python2"
  },
  "language_info": {
   "codemirror_mode": {
    "name": "ipython",
    "version": 2
   },
   "file_extension": ".py",
   "mimetype": "text/x-python",
   "name": "python",
   "nbconvert_exporter": "python",
   "pygments_lexer": "ipython2",
   "version": "2.7.14"
  }
 },
 "nbformat": 4,
 "nbformat_minor": 2
}
