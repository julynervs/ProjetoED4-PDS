{
 "cells": [
  {
   "cell_type": "code",
   "execution_count": 36,
   "metadata": {},
   "outputs": [
    {
     "name": "stdout",
     "output_type": "stream",
     "text": [
      "{'ecg': array([[ 0.45617899],\n",
      "       [ 0.42832697],\n",
      "       [ 0.39055694],\n",
      "       ..., \n",
      "       [-0.09082583],\n",
      "       [-0.08186996],\n",
      "       [-0.07825327]]), '__version__': '1.0', '__header__': 'MATLAB 5.0 MAT-file, Platform: LNX86, Created on: Thu Mar 16 15:38:58 2000', '__globals__': []}\n"
     ]
    }
   ],
   "source": [
    "import scipy.io\n",
    "import matplotlib.pyplot as plt\n",
    "import pandas as pd\n",
    "\n",
    "#leitura do arquivo ecg.mat\n",
    "\n",
    "mat = scipy.io.loadmat('ecg.mat')\n",
    "print mat"
   ]
  },
  {
   "cell_type": "code",
   "execution_count": 8,
   "metadata": {},
   "outputs": [
    {
     "name": "stdout",
     "output_type": "stream",
     "text": [
      "[(12+0j), (-5.82842712474619-2.414213562373095j), (2.220446049250313e-16+7.669517010585668e-17j), (-0.17157287525381137-0.4142135623730936j), 2.449293598294704e-16j, (-0.17157287525381507+0.4142135623730959j), (-3.885780586188048e-15+2.3008551031756994e-16j), (-5.828427124746189+2.4142135623730905j)]\n",
      "[(12+0j), (-5.82842712474619-2.4142135623730954j), 0j, (-0.1715728752538097-0.4142135623730947j), 0j, (-0.17157287525381015+0.41421356237309537j), 0j, (-5.82842712474619+2.414213562373095j)]\n",
      "[-1.1102230246251565e-15, 1.0000000000000004, 2.0, 2.999999999999999, 3.0000000000000004, 1.9999999999999982, 1.0000000000000013, 0.0]\n",
      "[0.0, 1.0000000000000002, 2.0, 3.0, 3.0, 1.9999999999999998, 1.0, 0.0]\n"
     ]
    }
   ],
   "source": [
    "\"\"\"DFT and FFT\"\"\"\n",
    "import math\n",
    "\n",
    "def iexp(n):\n",
    "    return complex(math.cos(n), math.sin(n))\n",
    "\n",
    "def is_pow2(n):\n",
    "    return False if n == 0 else (n == 1 or is_pow2(n >> 1))\n",
    "\n",
    "def dft(xs):\n",
    "    \"naive dft\"\n",
    "    n = len(xs)\n",
    "    return [sum((xs[k] * iexp(-2 * math.pi * i * k / n) for k in range(n)))\n",
    "            for i in range(n)]\n",
    "\n",
    "def dftinv(xs):\n",
    "    \"naive dft\"\n",
    "    n = len(xs)\n",
    "    return [sum((xs[k] * iexp(2 * math.pi * i * k / n) for k in range(n))) / n\n",
    "            for i in range(n)]\n",
    "\n",
    "def fft_(xs, n, start=0, stride=1):\n",
    "    \"cooley-turkey fft\"\n",
    "    if n == 1: return [xs[start]]\n",
    "    hn, sd = n // 2, stride * 2\n",
    "    rs = fft_(xs, hn, start, sd) + fft_(xs, hn, start + stride, sd)\n",
    "    for i in range(hn):\n",
    "        e = iexp(-2 * math.pi * i / n)\n",
    "        rs[i], rs[i + hn] = rs[i] + e * rs[i + hn], rs[i] - e * rs[i + hn]\n",
    "        pass\n",
    "    return rs\n",
    "\n",
    "def fft(xs):\n",
    "    assert is_pow2(len(xs))\n",
    "    return fft_(xs, len(xs))\n",
    "\n",
    "def fftinv_(xs, n, start=0, stride=1):\n",
    "    \"cooley-turkey fft\"\n",
    "    if n == 1: return [xs[start]]\n",
    "    hn, sd = n // 2, stride * 2\n",
    "    rs = fftinv_(xs, hn, start, sd) + fftinv_(xs, hn, start + stride, sd)\n",
    "    for i in range(hn):\n",
    "        e = iexp(2 * math.pi * i / n)\n",
    "        rs[i], rs[i + hn] = rs[i] + e * rs[i + hn], rs[i] - e * rs[i + hn]\n",
    "        pass\n",
    "    return rs\n",
    "\n",
    "def fftinv(xs):\n",
    "    assert is_pow2(len(xs))\n",
    "    n = len(xs)\n",
    "    return [v / n for v in fftinv_(xs, n)]\n",
    "\n",
    "if __name__ == \"__main__\":\n",
    "    wave = [0, 1, 2, 3, 3, 2, 1, 0]\n",
    "    dfreq = dft(wave)\n",
    "    ffreq = fft(wave)\n",
    "    dwave = dftinv(dfreq)\n",
    "    fwave= fftinv(ffreq)\n",
    "    print(dfreq)\n",
    "    print(ffreq)\n",
    "    print([v.real for v in dwave])\n",
    "    print([v.real for v in fwave])\n",
    "    pass\n",
    "\n",
    "\n"
   ]
  },
  {
   "cell_type": "code",
   "execution_count": 32,
   "metadata": {},
   "outputs": [
    {
     "data": {
      "image/png": "[encoded data removed]",
      "text/plain": [
       "<matplotlib.figure.Figure at 0xf2cc240>"
      ]
     },
     "metadata": {},
     "output_type": "display_data"
    }
   ],
   "source": [
    "#código simples de fft da internet\n",
    "\n",
    "from scipy.fftpack import fft\n",
    "import numpy as np\n",
    "# Number of sample points\n",
    "N = 100\n",
    "# sample spacing\n",
    "T = 1.0 / 500.0\n",
    "x = np.linspace(0.0, N*T, N)\n",
    "y = np.sin(50.0 * 2.0*np.pi*x) + 0.5*np.sin(80.0 * 2.0*np.pi*x)\n",
    "yf = fft(y)\n",
    "xf = np.linspace(0.0, 1.0/(2.0*T), N//2)\n",
    "import matplotlib.pyplot as plt\n",
    "plt.plot(xf, 2.0/N * np.abs(yf[0:N//2]))\n",
    "plt.grid()\n",
    "plt.show()"
   ]
  },
  {
   "cell_type": "code",
   "execution_count": 33,
   "metadata": {},
   "outputs": [
    {
     "ename": "ImportError",
     "evalue": "No module named plot.plotly",
     "output_type": "error",
     "traceback": [
      "\u001b[1;31m---------------------------------------------------------------------------\u001b[0m",
      "\u001b[1;31mImportError\u001b[0m                               Traceback (most recent call last)",
      "\u001b[1;32m<ipython-input-33-ab459ac3f816>\u001b[0m in \u001b[0;36m<module>\u001b[1;34m()\u001b[0m\n\u001b[0;32m      1\u001b[0m \u001b[1;32mimport\u001b[0m \u001b[0mmatplotlib\u001b[0m\u001b[1;33m.\u001b[0m\u001b[0mpyplot\u001b[0m \u001b[1;32mas\u001b[0m \u001b[0mplt\u001b[0m\u001b[1;33m\u001b[0m\u001b[0m\n\u001b[1;32m----> 2\u001b[1;33m \u001b[1;32mimport\u001b[0m \u001b[0mplot\u001b[0m\u001b[1;33m.\u001b[0m\u001b[0mplotly\u001b[0m \u001b[1;32mas\u001b[0m \u001b[0mpy\u001b[0m\u001b[1;33m\u001b[0m\u001b[0m\n\u001b[0m\u001b[0;32m      3\u001b[0m \u001b[1;32mimport\u001b[0m \u001b[0mnumpy\u001b[0m \u001b[1;32mas\u001b[0m \u001b[0mnp\u001b[0m\u001b[1;33m\u001b[0m\u001b[0m\n\u001b[0;32m      4\u001b[0m \u001b[1;31m# Learn about API authentication here: https://plot.ly/python/getting-started\u001b[0m\u001b[1;33m\u001b[0m\u001b[1;33m\u001b[0m\u001b[0m\n\u001b[0;32m      5\u001b[0m \u001b[1;31m# Find your api_key here: https://plot.ly/settings/api\u001b[0m\u001b[1;33m\u001b[0m\u001b[1;33m\u001b[0m\u001b[0m\n",
      "\u001b[1;31mImportError\u001b[0m: No module named plot.plotly"
     ]
    }
   ],
   "source": [
    "#nseitolok\n",
    "\n",
    "import matplotlib.pyplot as plt\n",
    "import plot.plotly as py\n",
    "import numpy as np\n",
    "# Learn about API authentication here: https://plot.ly/python/getting-started\n",
    "# Find your api_key here: https://plot.ly/settings/api\n",
    "\n",
    "Fs = 150.0;  # sampling rate\n",
    "Ts = 1.0/Fs; # sampling interval\n",
    "t = np.arange(0,1,Ts) # time vector\n",
    "\n",
    "ff = 5;   # frequency of the signal\n",
    "y = np.sin(2*np.pi*ff*t)\n",
    "\n",
    "n = len(y) # length of the signal\n",
    "k = np.arange(n)\n",
    "T = n/Fs\n",
    "frq = k/T # two sides frequency range\n",
    "frq = frq[range(n/2)] # one side frequency range\n",
    "\n",
    "Y = np.fft.fft(y)/n # fft computing and normalization\n",
    "Y = Y[range(n/2)]\n",
    "\n",
    "fig, ax = plt.subplots(2, 1)\n",
    "ax[0].plot(t,y)\n",
    "ax[0].set_xlabel('Time')\n",
    "ax[0].set_ylabel('Amplitude')\n",
    "ax[1].plot(frq,abs(Y),'r') # plotting the spectrum\n",
    "ax[1].set_xlabel('Freq (Hz)')\n",
    "ax[1].set_ylabel('|Y(freq)|')\n",
    "\n",
    "plot_url = py.plot_mpl(fig, filename='mpl-basic-fft')"
   ]
  },
  {
   "cell_type": "code",
   "execution_count": null,
   "metadata": {
    "collapsed": true
   },
   "outputs": [],
   "source": []
  }
 ],
 "metadata": {
  "kernelspec": {
   "display_name": "Python 2",
   "language": "python",
   "name": "python2"
  },
  "language_info": {
   "codemirror_mode": {
    "name": "ipython",
    "version": 2
   },
   "file_extension": ".py",
   "mimetype": "text/x-python",
   "name": "python",
   "nbconvert_exporter": "python",
   "pygments_lexer": "ipython2",
   "version": "2.7.14"
  }
 },
 "nbformat": 4,
 "nbformat_minor": 2
}
